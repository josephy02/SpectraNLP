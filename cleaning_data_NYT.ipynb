{
 "cells": [
  {
   "cell_type": "code",
   "execution_count": 1,
   "id": "6efe2587-d3d0-4e11-bdaa-9b3bfc6c9ce7",
   "metadata": {},
   "outputs": [],
   "source": [
    "from pynytimes import NYTAPI\n",
    "import os\n",
    "import datetime\n",
    "import time\n",
    "import json\n",
    "import requests\n",
    "import pandas as pd\n",
    "import nltk\n",
    "from nltk.sentiment.vader import SentimentIntensityAnalyzer"
   ]
  },
  {
   "cell_type": "code",
   "execution_count": 2,
   "id": "5757e675-e957-4757-afbb-06717e83b078",
   "metadata": {},
   "outputs": [
    {
     "name": "stderr",
     "output_type": "stream",
     "text": [
      "[nltk_data] Downloading package vader_lexicon to\n",
      "[nltk_data]     /Users/joeyared/nltk_data...\n",
      "[nltk_data]   Package vader_lexicon is already up-to-date!\n"
     ]
    }
   ],
   "source": [
    "nltk.download('vader_lexicon')\n",
    "sid = SentimentIntensityAnalyzer()"
   ]
  },
  {
   "cell_type": "code",
   "execution_count": 3,
   "id": "62bac547-3e9b-46af-82ec-b19bcb435bd9",
   "metadata": {},
   "outputs": [],
   "source": [
    "def sentiment_analysis(text):\n",
    "    if not text:\n",
    "        return 'Neutral', {'compound': 0.0}\n",
    "    scores = sid.polarity_scores(text)\n",
    "    if scores['compound'] >= 0.05:\n",
    "        sentiment = 'Positive'\n",
    "    elif scores['compound'] <= -0.05:\n",
    "        sentiment = 'Negative'\n",
    "    else:\n",
    "        sentiment = 'Neutral'\n",
    "    return sentiment, scores"
   ]
  },
  {
   "cell_type": "code",
   "execution_count": 4,
   "id": "3c680ba4-03f0-4da0-8282-d02aeea2889f",
   "metadata": {},
   "outputs": [],
   "source": [
    "def search_nyt_articles(nyt, query, start_date, end_date, max_results=25):\n",
    "    try: \n",
    "        articles = nyt.article_search(\n",
    "            query=query,\n",
    "            results=max_results,\n",
    "            # Search for articles in \n",
    "            dates = {\n",
    "                \"begin\": start_date,\n",
    "                \"end\": end_date\n",
    "            },\n",
    "            options = {\n",
    "                \"sort\": \"newest\" # Sort by new\n",
    "            }\n",
    "        )\n",
    "        return articles\n",
    "    except Exception as e:\n",
    "        print(f\"Error fetching articles: {e}\")\n",
    "        return []"
   ]
  },
  {
   "cell_type": "code",
   "execution_count": 5,
   "id": "367bda83-3f9e-46ca-a40f-d8dbd0637343",
   "metadata": {},
   "outputs": [],
   "source": [
    "def get_article_data(articles): \n",
    "    article_data = []\n",
    "    for article in articles:\n",
    "        try:\n",
    "            # text = article.get('headline', {}).get('main', '')\n",
    "            text = article.get('lead_paragraph', '')\n",
    "            sentiment, score = sentiment_analysis(text)\n",
    "            data = {\n",
    "                'headline': article.get('headline', {}).get('main', ''),\n",
    "                'lead_paragraph': article.get('lead_paragraph', ''),\n",
    "                'abstract': article.get('abstract', ''),\n",
    "                'keywords': ', '.join([kw.get('value', '') for kw in article.get('keywords', [])]),\n",
    "                'pub_date': article.get('pub_date', ''),\n",
    "                'sentiment': sentiment, \n",
    "                'sentiment_score': score['compound']\n",
    "            }\n",
    "            article_data.append(data)\n",
    "        except Exception as e:\n",
    "            print(f\"Error processing article: {e}\")\n",
    "            continue\n",
    "        \n",
    "    return pd.DataFrame(article_data)"
   ]
  },
  {
   "cell_type": "code",
   "execution_count": 6,
   "id": "fe46322b-ea96-48b7-9cb1-f397e65188fb",
   "metadata": {},
   "outputs": [],
   "source": [
    "def main():\n",
    "    nyt = NYTAPI(\"6PHpPgcrP9AlMU82J12ty8e6QaKfm8PU\", parse_dates=True)\n",
    "    keywords = ['gaza', 'palestine', 'palestinian refugees', 'israel palestine conflict', 'israel', 'hamas', 'gaza protests']    \n",
    "    start_date = datetime.datetime(2023, 1, 1)\n",
    "    end_date = datetime.datetime(2024, 11, 1)\n",
    "    all_articles_data = []\n",
    "    for search_word in keywords:\n",
    "        print(f\"\\nSearching for: {search_word}\")\n",
    "        articles = search_nyt_articles(nyt, search_word, start_date, end_date)\n",
    "        if articles:\n",
    "            article_data = get_article_data(articles)\n",
    "            all_articles_data.extend(article_data)\n",
    "            print(f\"Found {len(article_data)} articles for '{search_word}'\")\n",
    "        else:\n",
    "            print(f\"No articles found for '{search_word}'\")\n",
    "    if all_articles_data:\n",
    "        filename = f\"nyt_articles_combined.csv\"\n",
    "        all_articles_data = pd.DataFrame(all_articles_data)\n",
    "        all_articles_data.to_csv(filename, index=False)"
   ]
  },
  {
   "cell_type": "code",
   "execution_count": 7,
   "id": "e2a78f9d-5976-485d-b38e-52e607518d96",
   "metadata": {},
   "outputs": [
    {
     "name": "stdout",
     "output_type": "stream",
     "text": [
      "\n",
      "Searching for: gaza\n",
      "Found 30 articles for 'gaza'\n",
      "\n",
      "Searching for: palestine\n",
      "Found 30 articles for 'palestine'\n",
      "\n",
      "Searching for: palestinian refugees\n",
      "Found 30 articles for 'palestinian refugees'\n",
      "\n",
      "Searching for: israel palestine conflict\n",
      "Found 30 articles for 'israel palestine conflict'\n",
      "\n",
      "Searching for: israel\n",
      "Found 30 articles for 'israel'\n",
      "\n",
      "Searching for: hamas\n",
      "Found 30 articles for 'hamas'\n",
      "\n",
      "Searching for: gaza protests\n",
      "Found 30 articles for 'gaza protests'\n"
     ]
    }
   ],
   "source": [
    "if __name__ == \"__main__\":\n",
    "    main()"
   ]
  },
  {
   "cell_type": "code",
   "execution_count": null,
   "id": "cda15515-3239-4039-b6dc-ad832816bb4a",
   "metadata": {},
   "outputs": [],
   "source": []
  },
  {
   "cell_type": "code",
   "execution_count": null,
   "id": "565e02be-9b1b-4a6f-a789-2fe9b55a569f",
   "metadata": {},
   "outputs": [],
   "source": []
  },
  {
   "cell_type": "code",
   "execution_count": null,
   "id": "f38b6166-58ea-4407-a5e7-c6dcf7f5b60d",
   "metadata": {},
   "outputs": [],
   "source": []
  },
  {
   "cell_type": "code",
   "execution_count": 8,
   "id": "976451d8-239d-4b17-acd1-964865f31528",
   "metadata": {},
   "outputs": [],
   "source": [
    "# url = 'https://api.nytimes.com/svc/search/v2/articlesearch.json?q=israel&api-key=6PHpPgcrP9AlMU82J12ty8e6QaKfm8PU'\n",
    "#     r = requests.get(url)\n",
    "#     json_data = r.json()\n",
    "#     json_string = json.dumps(json_data)\n",
    "\n",
    "# results = json_data.get(\"results\")\n",
    "# results_string = json.dumps(results)\n",
    "# df = pd.read_json(results_string)\n",
    "# print(json_string)\n",
    "# articles = nyt.article_search(\n",
    "#     query = \"Israeli–Palestinian Conflict\",\n",
    "#     results = 5,\n",
    "#     # Search for articles in January and February 2019\n",
    "#     dates = {\n",
    "#         \"begin\": datetime.datetime(2018, 1, 30),\n",
    "#         \"end\": datetime.datetime(2024, 8, 28)\n",
    "#     },\n",
    "#     options = {\n",
    "#         \"sort\": \"oldest\", # Sort by oldest options\n",
    "#         # Return articles from the following four sources\n",
    "#         \"sources\": [\n",
    "#             \"New York Times\",\n",
    "#             \"AP\",\n",
    "#             \"Reuters\",\n",
    "#             \"International Herald Tribune\"\n",
    "#         ],\n",
    "#         # Only get information from the Politics desk\n",
    "#         \"news_desk\": [\n",
    "#             \"Politics\"\n",
    "#         ],\n",
    "#         # Only return ....\n",
    "#         \"type_of_material\": [\n",
    "#             \"News Analysis\"\n",
    "#         ],\n",
    "#         # The article text should contain the word..\n",
    "#         \"body\": [\n",
    "#             \"death\"\n",
    "#         ],\n",
    "#         # Headline should contain...\n",
    "#         \"headline\": [\n",
    "#             \"conflict\",\n",
    "#             \"war\",\n",
    "#             \"toll\"\n",
    "#         ]\n",
    "#     }\n",
    "# )\n",
    "\n",
    "# articles = nyt.article_search(query=\"Israeli–Palestinian Conflict\", results=1)\n",
    "# print(articles[1])"
   ]
  }
 ],
 "metadata": {
  "kernelspec": {
   "display_name": "Python 3 (ipykernel)",
   "language": "python",
   "name": "python3"
  },
  "language_info": {
   "codemirror_mode": {
    "name": "ipython",
    "version": 3
   },
   "file_extension": ".py",
   "mimetype": "text/x-python",
   "name": "python",
   "nbconvert_exporter": "python",
   "pygments_lexer": "ipython3",
   "version": "3.11.7"
  }
 },
 "nbformat": 4,
 "nbformat_minor": 5
}
